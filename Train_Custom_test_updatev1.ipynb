{
  "cells": [
    {
      "cell_type": "markdown",
      "metadata": {
        "id": "view-in-github",
        "colab_type": "text"
      },
      "source": [
        "<a href=\"https://colab.research.google.com/github/Tung0000/Detection_CS_Fruit_Yolov8s/blob/main/Train_Custom_test_updatev1.ipynb\" target=\"_parent\"><img src=\"https://colab.research.google.com/assets/colab-badge.svg\" alt=\"Open In Colab\"/></a>"
      ]
    },
    {
      "cell_type": "markdown",
      "metadata": {
        "id": "hQWa4whTxK4m"
      },
      "source": [
        "#ติดตั้ง Library ที่จำเป็น"
      ]
    },
    {
      "cell_type": "markdown",
      "metadata": {
        "id": "MXtSJYFHxiXV"
      },
      "source": [
        "#โหลด Dataset จาก Roboflow"
      ]
    },
    {
      "cell_type": "code",
      "execution_count": null,
      "metadata": {
        "id": "0BtX8frek1VT"
      },
      "outputs": [],
      "source": [
        "!pip install ultralytics"
      ]
    },
    {
      "cell_type": "code",
      "execution_count": null,
      "metadata": {
        "id": "7KUvM4kHkbdJ"
      },
      "outputs": [],
      "source": [
        "import ultralytics\n",
        "from ultralytics import YOLO"
      ]
    },
    {
      "cell_type": "code",
      "execution_count": null,
      "metadata": {
        "id": "gsKoSUyFB-2P"
      },
      "outputs": [],
      "source": [
        "#from google.colab import drive\n",
        "#drive.mount('/content/drive')"
      ]
    },
    {
      "cell_type": "markdown",
      "metadata": {
        "id": "VN8mgyg3xqzv"
      },
      "source": [
        "#  เช็คโดยใช้ ImageDataGenerator"
      ]
    },
    {
      "cell_type": "code",
      "execution_count": null,
      "metadata": {
        "id": "nZPtebbSDjIv"
      },
      "outputs": [],
      "source": [
        "#import matplotlib.pyplot as plt"
      ]
    },
    {
      "cell_type": "code",
      "execution_count": null,
      "metadata": {
        "id": "Fx6DOC8vETH3"
      },
      "outputs": [],
      "source": [
        "#import numpy as np\n",
        "#import matplotlib.pyplot as plt\n",
        "#from tensorflow.keras.preprocessing.image import ImageDataGenerator\n",
        "#import tensorflow as tf"
      ]
    },
    {
      "cell_type": "code",
      "execution_count": null,
      "metadata": {
        "id": "SnDSypU-Ea3X"
      },
      "outputs": [],
      "source": [
        "##ImageDataGenerator()"
      ]
    },
    {
      "cell_type": "code",
      "execution_count": null,
      "metadata": {
        "id": "Xwe7iz08EKeX"
      },
      "outputs": [],
      "source": [
        "#datagen=ImageDataGenerator(rescale=1./255,zoom_range=0.2,brightness_range=[0.5,1.5], rotation_range=20,horizontal_flip=True)\n",
        "\n",
        "#train_test=datagen.flow_from_directory(train_dir,target_size=(64,64),batch_size=32,class_mode='categorical')"
      ]
    },
    {
      "cell_type": "code",
      "execution_count": null,
      "metadata": {
        "id": "ctYRRriYHghn"
      },
      "outputs": [],
      "source": [
        "#datagen=ImageDataGenerator(rescale=1./255,zoom_range=0.2,brightness_range=[0.5,1.5], rotation_range=20,horizontal_flip=True)\n",
        "\n",
        "#valid_test=datagen.flow_from_directory(valid_dir,target_size=(64,64),batch_size=32,class_mode='categorical')"
      ]
    },
    {
      "cell_type": "code",
      "execution_count": null,
      "metadata": {
        "id": "ABpX-nl0GwGv"
      },
      "outputs": [],
      "source": [
        "#x=train_test.samples\n",
        "#y=train_test.class_indices\n",
        "#z=train_test.num_classes\n",
        "#a=train_test.batch_size\n",
        "#print(x,y,z,a)"
      ]
    },
    {
      "cell_type": "code",
      "execution_count": null,
      "metadata": {
        "id": "52hr_TWKH7LY"
      },
      "outputs": [],
      "source": [
        "#x=valid_test.samples\n",
        "#y=valid_test.class_indices\n",
        "#z=valid_test.num_classes\n",
        "#a=valid_test.batch_size\n",
        "#print(x,y,z,a)"
      ]
    },
    {
      "cell_type": "code",
      "execution_count": null,
      "metadata": {
        "id": "b0HbFZMIHODn"
      },
      "outputs": [],
      "source": [
        "#plt.imshow(train_test[0][0][0])"
      ]
    },
    {
      "cell_type": "code",
      "execution_count": null,
      "metadata": {
        "id": "Glx3HYTbIsn3"
      },
      "outputs": [],
      "source": [
        "#train_test.class_indices"
      ]
    },
    {
      "cell_type": "code",
      "execution_count": null,
      "metadata": {
        "id": "voJPqBq8HVCH"
      },
      "outputs": [],
      "source": [
        "#ids,counts= np.unique(train_test.classes, return_counts=True)\n",
        "#print(f\"มี class เท่ากับ {ids}\")\n",
        "#print(counts)"
      ]
    },
    {
      "cell_type": "code",
      "execution_count": null,
      "metadata": {
        "id": "_O0bYIkiKWxQ"
      },
      "outputs": [],
      "source": [
        "#labels = (train_test.class_indices)\n",
        "#labels = dict((v,k) for k,v in labels.items())\n",
        "#labels\n",
        "\n",
        "#for i in ids:\n",
        "#    print('{:>6} = {}' . format(labels[i], counts[i]))"
      ]
    },
    {
      "cell_type": "code",
      "execution_count": null,
      "metadata": {
        "id": "Jvj4m6fjK3yo"
      },
      "outputs": [],
      "source": [
        "#train_test[0][0][0].shape"
      ]
    },
    {
      "cell_type": "code",
      "execution_count": null,
      "metadata": {
        "id": "qOMrO9g3K_AQ"
      },
      "outputs": [],
      "source": [
        "#valid_test[0][0][0].shape"
      ]
    },
    {
      "cell_type": "markdown",
      "metadata": {
        "id": "iFwh_umG1UhW"
      },
      "source": [
        "#  Train Model Yolo ด้วย Dataset ที่เตรียมไว้"
      ]
    },
    {
      "cell_type": "code",
      "execution_count": null,
      "metadata": {
        "id": "-Scp-g8OIbYL"
      },
      "outputs": [],
      "source": [
        "!pip install roboflow\n",
        "\n",
        "from roboflow import Roboflow\n",
        "rf = Roboflow(api_key=\"0100tTC6iSisNdselYOb\")\n",
        "project = rf.workspace(\"object-detection-fruit\").project(\"fruit-smrhb\")\n",
        "version = project.version(7)\n",
        "dataset = version.download(\"yolov8\")"
      ]
    },
    {
      "cell_type": "code",
      "execution_count": null,
      "metadata": {
        "id": "BuZdg6vaKWhX"
      },
      "outputs": [],
      "source": [
        "models = YOLO(\"yolov8s.pt\")"
      ]
    },
    {
      "cell_type": "code",
      "execution_count": null,
      "metadata": {
        "id": "pfROnPzkHMhG"
      },
      "outputs": [],
      "source": [
        "dataset=\"/content/Fruit-7/data.yaml\""
      ]
    },
    {
      "cell_type": "code",
      "execution_count": null,
      "metadata": {
        "id": "BxvAAJjjCH3f"
      },
      "outputs": [],
      "source": [
        "models.info()"
      ]
    },
    {
      "cell_type": "code",
      "execution_count": null,
      "metadata": {
        "id": "4U66T2rHCdQ_"
      },
      "outputs": [],
      "source": [
        "in_shape=(64,64,3)"
      ]
    },
    {
      "cell_type": "markdown",
      "metadata": {
        "id": "gHb_7M0MKA3e"
      },
      "source": [
        "#ใช้ Augmentation มาช่วย"
      ]
    },
    {
      "cell_type": "code",
      "execution_count": null,
      "metadata": {
        "id": "KUULr8Vs01T-"
      },
      "outputs": [],
      "source": [
        "from ultralytics import YOLO\n",
        "\n",
        "# โหลดโมเดล\n",
        "model = YOLO(\"yolov8s.pt\")\n",
        "\n",
        "# เทรนพร้อม custom augmentation\n",
        "model.train(\n",
        "    data=dataset,\n",
        "    epochs=30,\n",
        "    imgsz=640,\n",
        "    augment=True,  # เปิดใช้ augmentation\n",
        "    degrees=20,    # หมุน\n",
        "    scale=0.5,     # random scale\n",
        "    flipud=0.3,    # flip vertical\n",
        "    fliplr=0.5,    # flip horizontal\n",
        "    hsv_h=0.015,   # ปรับ hue\n",
        "    hsv_s=0.7,     # ปรับ saturation\n",
        "    hsv_v=0.4      # ปรับ brightness\n",
        ")\n"
      ]
    },
    {
      "cell_type": "markdown",
      "metadata": {
        "id": "eE3ufE5JINLp"
      },
      "source": [
        "#โหลด model แบบบลดขนาด"
      ]
    },
    {
      "cell_type": "code",
      "execution_count": null,
      "metadata": {
        "id": "FIIdI6WtIMBp"
      },
      "outputs": [],
      "source": [
        "from ultralytics import YOLO\n",
        "\n",
        "# โหลดโมเดลที่ train เสร็จ\n",
        "model = YOLO(\"/content/best.pt\")\n",
        "\n",
        "# Export เป็น ONNX\n",
        "model.export(format=\"onnx\", opset=12)\n",
        "\n",
        "# Export เป็น TFLite แบบ quantized INT8\n",
        "model.export(format=\"tflite\", int8=True)"
      ]
    },
    {
      "cell_type": "markdown",
      "metadata": {
        "id": "nk-C6ZJCMZZK"
      },
      "source": [
        "#เช็ต parameters"
      ]
    },
    {
      "cell_type": "code",
      "execution_count": null,
      "metadata": {
        "id": "cisYA3k-MY2a"
      },
      "outputs": [],
      "source": [
        "from ultralytics import YOLO\n",
        "\n",
        "models = YOLO(model)\n",
        "total_params = sum(p.numel() for p in model.model.parameters())\n",
        "print(f\"Total parameters: {total_params/1e6:.2f} M\")"
      ]
    },
    {
      "cell_type": "markdown",
      "metadata": {
        "id": "dXd2zpAty2cK"
      },
      "source": [
        "#แสดงผลลัพธ์จากการ Train Model\n",
        "\n",
        "\n",
        "\n"
      ]
    },
    {
      "cell_type": "markdown",
      "metadata": {
        "id": "5AsapeH_zLqm"
      },
      "source": [
        "##แสดง Confusion Metrix"
      ]
    },
    {
      "cell_type": "code",
      "execution_count": null,
      "metadata": {
        "id": "1vVvb1SfQ9lR"
      },
      "outputs": [],
      "source": [
        "import matplotlib.pyplot as plt\n",
        "\n",
        "img=('/content/runs/detect/train/confusion_matrix.png')\n",
        "plt.figure(figsize=(10,10))\n",
        "plt.imshow(img)\n",
        "plt.axis(\"off\")\n",
        "plt.show()"
      ]
    },
    {
      "cell_type": "code",
      "execution_count": null,
      "metadata": {
        "id": "9_nQjKcYR-wU"
      },
      "outputs": [],
      "source": [
        "import matplotlib.pyplot as plt\n",
        "import matplotlib.image as mpimg\n",
        "\n",
        "img = mpimg.imread('/content/runs/detect/train/train_batch1941.jpg')\n",
        "plt.figure(figsize=(10,8))\n",
        "plt.imshow(img)\n",
        "plt.axis(\"off\")\n",
        "plt.show()"
      ]
    },
    {
      "cell_type": "markdown",
      "metadata": {
        "id": "Y4C_k4-nzX2C"
      },
      "source": [
        "##แสดงภาพตัวอย่างที่ทำนายแล้ว จากการ Valid"
      ]
    },
    {
      "cell_type": "code",
      "execution_count": null,
      "metadata": {
        "id": "XDrCMWSUwDEr"
      },
      "outputs": [],
      "source": [
        "import matplotlib.pyplot as plt\n",
        "import matplotlib.image as mpimg\n",
        "\n",
        "# โหลดรูป\n",
        "img_left = mpimg.imread('/content/runs/detect/train/val_batch0_labels.jpg')\n",
        "img_right = mpimg.imread('/content/runs/detect/train/val_batch0_pred.jpg')\n",
        "\n",
        "plt.figure(figsize=(15, 15))  # กำหนดขนาดรวม\n",
        "\n",
        "# รูปซ้าย (index=1)\n",
        "plt.subplot(1, 2, 1)\n",
        "plt.imshow(img_left)\n",
        "plt.axis(\"on\")\n",
        "\n",
        "# รูปขวา (index=2)\n",
        "plt.subplot(1, 2, 2)\n",
        "plt.imshow(img_right)\n",
        "plt.axis(\"on\")\n",
        "\n",
        "plt.show()"
      ]
    },
    {
      "cell_type": "markdown",
      "metadata": {
        "id": "OEC9C4dM0B1a"
      },
      "source": [
        "#ดาวน์โหลด Model ไปใช้"
      ]
    },
    {
      "cell_type": "code",
      "execution_count": null,
      "metadata": {
        "id": "y0K1tFSJz92x"
      },
      "outputs": [],
      "source": [
        "from google.colab import files\n",
        "# ระบุเส้นทางของไฟล์ที่ต้องการดาวน์โหลด\n",
        "file_path ='/content/best.pt'\n",
        "# ดาวน์โหลดไฟล์\n",
        "files.download(file_path)"
      ]
    },
    {
      "cell_type": "markdown",
      "metadata": {
        "id": "H2WTAsBs1NzA"
      },
      "source": [
        "# การนำโมเดลที่สำเร็จแล้วมาใช้ (ใน Colab)"
      ]
    },
    {
      "cell_type": "code",
      "execution_count": null,
      "metadata": {
        "id": "plUc0SkQ2y-o"
      },
      "outputs": [],
      "source": [
        "import cv2\n",
        "from ultralytics import YOLO\n",
        "import matplotlib.pyplot as plt\n",
        "from google.colab import files\n",
        "import os"
      ]
    },
    {
      "cell_type": "markdown",
      "metadata": {
        "id": "j38y2en83C6k"
      },
      "source": [
        "## อัพโหลดไฟล์รูปที่ต้องการค้นหาวัตถุ เพิ่มแบบปกติเอาก็ได้"
      ]
    },
    {
      "cell_type": "code",
      "execution_count": null,
      "metadata": {
        "id": "xokUsA6i23d7"
      },
      "outputs": [],
      "source": [
        "\"\"\"\n",
        "uploaded = files.upload(\"\")  # เรียกใช้ตัวอัพโหลดรูปของ Colab\n",
        "if not uploaded:\n",
        "    raise FileNotFoundError(\"No file uploaded!\")\n",
        "test_image_path = next(iter(uploaded.keys()))  # เก็บชื่อไฟล์เข้าสู่ตัวแปร\n",
        "\"\"\""
      ]
    },
    {
      "cell_type": "markdown",
      "metadata": {
        "id": "kAMDW_0L3NrC"
      },
      "source": [
        "## เรียกใช้โมเดลที่ Train ไว้แล้ว"
      ]
    },
    {
      "cell_type": "code",
      "execution_count": null,
      "metadata": {
        "id": "kFr_9qBDNGxO"
      },
      "outputs": [],
      "source": [
        "model_best_pt=\"/content/best (2).pt\""
      ]
    },
    {
      "cell_type": "code",
      "execution_count": null,
      "metadata": {
        "id": "13Po4pX93YeR"
      },
      "outputs": [],
      "source": [
        "# โหลดโมเดล best\n",
        "model = YOLO(model_best_pt)"
      ]
    },
    {
      "cell_type": "code",
      "execution_count": null,
      "metadata": {
        "id": "r4u3vlTYNRk2"
      },
      "outputs": [],
      "source": [
        "model.info()"
      ]
    },
    {
      "cell_type": "code",
      "execution_count": null,
      "metadata": {
        "id": "tqM58ZFV6hhO"
      },
      "outputs": [],
      "source": [
        "class_names=model.names\n",
        "\n",
        "print(class_names)"
      ]
    },
    {
      "cell_type": "code",
      "execution_count": null,
      "metadata": {
        "id": "DpTOzddF6uhl"
      },
      "outputs": [],
      "source": [
        "for class_name , class_id in class_names.items():\n",
        "    print(class_name,class_id)"
      ]
    },
    {
      "cell_type": "code",
      "source": [
        " for box , conf, cls_id in zip(xyxy, confidences, class_ids):\n",
        "                x1,y1,x2,y2 = box\n",
        "                width = x2-x1\n",
        "                height = y2-y1\n",
        "                area = width*height\n",
        "\n",
        "                class_names_str = class_name_dict[cls_id]\n",
        "\n",
        "                print(f\"Frame {frame_index} ตรวจพบ {class_names_str} | Conf: {conf:.2f} | Area: {area:.0f} พิกเซล\")\n",
        "                annotated_frame = result.plot()\n"
      ],
      "metadata": {
        "id": "6U4i6n3qlxTs"
      },
      "execution_count": null,
      "outputs": []
    },
    {
      "cell_type": "markdown",
      "source": [
        "![An-example-of-two-overlapped-bounding-boxes.png](data:image/png;base64,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)\n",
        "#\n",
        "x1\tพิกัดแนวนอนของมุมซ้ายบน\t(บน–ซ้าย)\n",
        "y1\tพิกัดแนวตั้งของมุมซ้ายบน\t(บน–ซ้าย)\n",
        "x2\tพิกัดแนวนอนของมุมขวาล่าง\t(ล่าง–ขวา)\n",
        "y2\tพิกัดแนวตั้งของมุมขวาล่าง\t(ล่าง–ขวา)"
      ],
      "metadata": {
        "id": "81XJs6k2jBas"
      }
    },
    {
      "cell_type": "code",
      "execution_count": null,
      "metadata": {
        "id": "PL9ZIbUDPpEz"
      },
      "outputs": [],
      "source": [
        "# --- 1. SETUP ---\n",
        "from ultralytics import YOLO\n",
        "import cv2\n",
        "from google.colab.patches import cv2_imshow\n",
        "\n",
        "model_path = \"/content/best (2).pt\"\n",
        "model = YOLO(model_path)\n",
        "class_name_dict = model.names\n",
        "\n",
        "print(f\"โมเดลของคุณคือ {model_path}\")\n",
        "print(f\"จำนวน class ของคุณคือ: {class_name_dict}\")\n",
        "\n",
        "INPUT_SOURCE = \"/content/10835.jpg\"\n",
        "\n",
        "# --- 2. PREDICT ---\n",
        "if model is not None:\n",
        "    IS_STREAM = isinstance(INPUT_SOURCE, int) or INPUT_SOURCE.endswith(('.mp4', '.avi', '.mov'))\n",
        "\n",
        "    predict_generator = model.predict(\n",
        "        source=INPUT_SOURCE,\n",
        "        stream=IS_STREAM,\n",
        "        conf=0.05,\n",
        "        iou=0.7,\n",
        "        show=False,\n",
        "        save=True,\n",
        "        project=\"content/Videopredict\",\n",
        "        name=\"Test1\",\n",
        "        exist_ok=True,\n",
        "    )\n",
        "\n",
        "    for frame_index, result in enumerate(predict_generator):\n",
        "        boxes = result.boxes\n",
        "        current_frame_video = result.orig_img\n",
        "\n",
        "        if boxes is not None and len(boxes) > 0:\n",
        "            xyxy = boxes.xyxy.cpu().numpy()\n",
        "            confidences = boxes.conf.cpu().numpy()\n",
        "            class_ids = boxes.cls.cpu().numpy().astype(int)\n",
        "\n",
        "            for box, conf, cls_id in zip(xyxy, confidences, class_ids):\n",
        "                x1, y1, x2, y2 = box\n",
        "                width = x2 - x1\n",
        "                height = y2 - y1\n",
        "                area = width * height\n",
        "\n",
        "                class_name_str = class_name_dict[cls_id]\n",
        "                print(f\"Frame {frame_index} ตรวจพบ {class_name_str} | Conf: {conf:.2f} | Area: {area:.0f} พิกเซล\")\n",
        "\n",
        "                annotated_frame = result.plot()\n",
        "\n",
        "                # --- 5. DISPLAY ---\n",
        "                cv2_imshow(annotated_frame)\n",
        "\n",
        "                wait_time = 1 if IS_STREAM else 0\n",
        "                if cv2.waitKey(wait_time) & 0xFF == ord(\"q\"):\n",
        "                    print(\"หยุดโดยผู้ใช้งาน\")\n",
        "                    break\n",
        "\n",
        "    cv2.destroyAllWindows()\n",
        "    print(\"จบกระบวนการ\")\n"
      ]
    },
    {
      "cell_type": "code",
      "source": [
        "detections = []\n",
        "\n",
        "for box, conf, cls_id in zip(xyxy, confidences, class_ids):\n",
        "    x1, y1, x2, y2 = box\n",
        "    width = x2 - x1\n",
        "    height = y2 - y1\n",
        "    area = width * height\n",
        "    class_name_str = class_name_dict[cls_id]\n",
        "\n",
        "    detections.append({\n",
        "        \"class\": class_name_str,\n",
        "        \"confidence\": float(conf),\n",
        "        \"x1\": int(x1),\n",
        "        \"y1\": int(y1),\n",
        "        \"x2\": int(x2),\n",
        "        \"y2\": int(y2),\n",
        "        \"area\": float(area)\n",
        "    })\n",
        "\n",
        "print(detections)\n"
      ],
      "metadata": {
        "id": "Urx-neRpp6aM"
      },
      "execution_count": null,
      "outputs": []
    },
    {
      "cell_type": "code",
      "source": [
        "import pandas as pd\n",
        "pd.DataFrame(detections).to_csv(\"result.csv\", index=False)\n"
      ],
      "metadata": {
        "id": "SgUXDzHLp-30"
      },
      "execution_count": null,
      "outputs": []
    },
    {
      "cell_type": "code",
      "source": [
        "for det in detections:\n",
        "    crop = current_frame_video[int(det[\"y1\"]):int(det[\"y2\"]), int(det[\"x1\"]):int(det[\"x2\"])]\n",
        "    cv2_imshow(crop)\n"
      ],
      "metadata": {
        "id": "k6idyJapqA5U"
      },
      "execution_count": null,
      "outputs": []
    }
  ],
  "metadata": {
    "accelerator": "GPU",
    "colab": {
      "gpuType": "T4",
      "provenance": [],
      "include_colab_link": true
    },
    "kernelspec": {
      "display_name": "Python 3",
      "name": "python3"
    },
    "language_info": {
      "name": "python"
    }
  },
  "nbformat": 4,
  "nbformat_minor": 0
}